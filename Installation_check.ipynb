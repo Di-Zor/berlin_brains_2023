{
 "cells": [
  {
   "cell_type": "markdown",
   "metadata": {},
   "source": [
    "# Hello and welcome!\n",
    " \n",
    "With this short notebook, let's check if your installation was successful."
   ]
  },
  {
   "cell_type": "markdown",
   "metadata": {},
   "source": [
    "### Check MNE installation and dependencies\n",
    "\n",
    "Let's first see if you have MNE-Python installed. Run the code cell below. It should _not_ show you an error:"
   ]
  },
  {
   "cell_type": "code",
   "execution_count": 2,
   "metadata": {},
   "outputs": [],
   "source": [
    "import mne"
   ]
  },
  {
   "cell_type": "markdown",
   "metadata": {},
   "source": [
    "Let's also check some dependencies that should have been installed alongside. Again, no errors should arise!"
   ]
  },
  {
   "cell_type": "code",
   "execution_count": 3,
   "metadata": {},
   "outputs": [],
   "source": [
    "import numpy\n",
    "import scipy\n",
    "import matplotlib"
   ]
  },
  {
   "cell_type": "markdown",
   "metadata": {},
   "source": [
    "Now, if there were any errors, you could check the following things:\n",
    "\n",
    "1. If you installed MNE-Python in a conda environment, did you activate it _before_ starting your Jupyter notebook server?\n",
    "2. Or, if you are in an IDE, have you chosen the right environment?\n",
    "3. If that does not solve it, you can check this page and see if your problem is discussed: https://mne.tools/stable/install/advanced.html#advanced-setup"
   ]
  },
  {
   "cell_type": "markdown",
   "metadata": {},
   "source": [
    "### Check MNE version\n",
    "\n",
    "Let's also see if you have the right version installed. This should give back `1.5.x`."
   ]
  },
  {
   "cell_type": "code",
   "execution_count": 4,
   "metadata": {},
   "outputs": [
    {
     "data": {
      "text/plain": [
       "'1.5.1'"
      ]
     },
     "execution_count": 4,
     "metadata": {},
     "output_type": "execute_result"
    }
   ],
   "source": [
    "mne.__version__"
   ]
  },
  {
   "cell_type": "markdown",
   "metadata": {},
   "source": [
    "If this gives back a different number, you installed the wrong MNE-Python version, or you are in a wrong environment.\n",
    "\n",
    "(Or you have an advanced setup like a developer's version install ... then it's probably easiest to install everything into a new conda environment!)"
   ]
  },
  {
   "cell_type": "markdown",
   "metadata": {},
   "source": [
    "### Check for extra dependencies \n",
    "\n",
    "Lastly, we will need some extra tools for the source reconstuction lecture - that is why MNE-Python should be installed with _all dependencies_. If the following gives an error, please either add those packages, or download MNE with all dependencies."
   ]
  },
  {
   "cell_type": "code",
   "execution_count": 5,
   "metadata": {},
   "outputs": [],
   "source": [
    "import nilearn\n",
    "import pyvista"
   ]
  },
  {
   "attachments": {},
   "cell_type": "markdown",
   "metadata": {},
   "source": [
    "### Dependencies for the interactive apps\n",
    "\n",
    "Several more packages will be required for creating the interactive apps."
   ]
  },
  {
   "cell_type": "code",
   "execution_count": 6,
   "metadata": {},
   "outputs": [
    {
     "ename": "ModuleNotFoundError",
     "evalue": "No module named 'fooof'",
     "output_type": "error",
     "traceback": [
      "\u001b[0;31m---------------------------------------------------------------------------\u001b[0m",
      "\u001b[0;31mModuleNotFoundError\u001b[0m                       Traceback (most recent call last)",
      "\u001b[1;32m/Users/zorbek/Documents/MNE_workshop/berlin_brains_2023/Installation_check.ipynb Cell 13\u001b[0m line \u001b[0;36m1\n\u001b[0;32m----> <a href='vscode-notebook-cell:/Users/zorbek/Documents/MNE_workshop/berlin_brains_2023/Installation_check.ipynb#X15sZmlsZQ%3D%3D?line=0'>1</a>\u001b[0m \u001b[39mimport\u001b[39;00m \u001b[39mfooof\u001b[39;00m  \u001b[39m# DeprecationWarning is not a problem\u001b[39;00m\n\u001b[1;32m      <a href='vscode-notebook-cell:/Users/zorbek/Documents/MNE_workshop/berlin_brains_2023/Installation_check.ipynb#X15sZmlsZQ%3D%3D?line=1'>2</a>\u001b[0m \u001b[39mimport\u001b[39;00m \u001b[39mmne_bids\u001b[39;00m\n\u001b[1;32m      <a href='vscode-notebook-cell:/Users/zorbek/Documents/MNE_workshop/berlin_brains_2023/Installation_check.ipynb#X15sZmlsZQ%3D%3D?line=2'>3</a>\u001b[0m \u001b[39mimport\u001b[39;00m \u001b[39mpanel\u001b[39;00m \u001b[39mas\u001b[39;00m \u001b[39mpn\u001b[39;00m\n",
      "\u001b[0;31mModuleNotFoundError\u001b[0m: No module named 'fooof'"
     ]
    }
   ],
   "source": [
    "import fooof  # DeprecationWarning is not a problem\n",
    "import mne_bids\n",
    "import panel as pn\n",
    "import streamlit as st"
   ]
  },
  {
   "cell_type": "markdown",
   "metadata": {},
   "source": [
    "### Dependencies for RSA\n",
    "\n",
    "The representation similarity analysis (RSA) tutorial requires the MNE-RSA package."
   ]
  },
  {
   "cell_type": "code",
   "execution_count": 7,
   "metadata": {},
   "outputs": [],
   "source": [
    "import mne_rsa\n",
    "assert mne_rsa.__version__ == '0.9', \"Please update to the very latest version of mne-rsa\""
   ]
  },
  {
   "cell_type": "code",
   "execution_count": null,
   "metadata": {},
   "outputs": [],
   "source": []
  },
  {
   "cell_type": "markdown",
   "metadata": {},
   "source": [
    "some notes to check pushing possibility"
   ]
  }
 ],
 "metadata": {
  "kernelspec": {
   "display_name": "Python 3 (ipykernel)",
   "language": "python",
   "name": "python3"
  },
  "language_info": {
   "codemirror_mode": {
    "name": "ipython",
    "version": 3
   },
   "file_extension": ".py",
   "mimetype": "text/x-python",
   "name": "python",
   "nbconvert_exporter": "python",
   "pygments_lexer": "ipython3",
   "version": "3.11.6"
  },
  "vscode": {
   "interpreter": {
    "hash": "96118219f514f0f7c28e51c58abb2aa3e9c527721ceabff83c3dd194a32d9fc1"
   }
  }
 },
 "nbformat": 4,
 "nbformat_minor": 4
}
